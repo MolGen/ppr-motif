{
 "cells": [
  {
   "cell_type": "code",
   "execution_count": 1,
   "metadata": {},
   "outputs": [],
   "source": [
    "import pandas as pd\n",
    "import matplotlib.pyplot as plt\n",
    "import seaborn as sns"
   ]
  },
  {
   "cell_type": "code",
   "execution_count": 2,
   "metadata": {},
   "outputs": [],
   "source": [
    "curated = pd.read_csv(\"dataset/ath_167/ath_167_Wang_2018.bed\", sep=\"\\t\", header=0)"
   ]
  },
  {
   "cell_type": "code",
   "execution_count": 3,
   "metadata": {},
   "outputs": [
    {
     "data": {
      "text/html": [
       "<div>\n",
       "<style scoped>\n",
       "    .dataframe tbody tr th:only-of-type {\n",
       "        vertical-align: middle;\n",
       "    }\n",
       "\n",
       "    .dataframe tbody tr th {\n",
       "        vertical-align: top;\n",
       "    }\n",
       "\n",
       "    .dataframe thead th {\n",
       "        text-align: right;\n",
       "    }\n",
       "</style>\n",
       "<table border=\"1\" class=\"dataframe\">\n",
       "  <thead>\n",
       "    <tr style=\"text-align: right;\">\n",
       "      <th></th>\n",
       "      <th>acc</th>\n",
       "      <th>start</th>\n",
       "      <th>end</th>\n",
       "      <th>name</th>\n",
       "      <th>score</th>\n",
       "      <th>strand</th>\n",
       "      <th>motif</th>\n",
       "    </tr>\n",
       "  </thead>\n",
       "  <tbody>\n",
       "    <tr>\n",
       "      <th>0</th>\n",
       "      <td>AT1G01320.1</td>\n",
       "      <td>920</td>\n",
       "      <td>955</td>\n",
       "      <td>TPR</td>\n",
       "      <td>0</td>\n",
       "      <td>+</td>\n",
       "      <td>TAGAYSLLAVVLYHTGDFNQATIYQQKALDINERE</td>\n",
       "    </tr>\n",
       "    <tr>\n",
       "      <th>1</th>\n",
       "      <td>AT1G01320.1</td>\n",
       "      <td>962</td>\n",
       "      <td>997</td>\n",
       "      <td>TPR</td>\n",
       "      <td>0</td>\n",
       "      <td>+</td>\n",
       "      <td>TMKSYGDLAVFYYRLQHTELALKYVKRALYLLHLT</td>\n",
       "    </tr>\n",
       "    <tr>\n",
       "      <th>2</th>\n",
       "      <td>AT1G01320.1</td>\n",
       "      <td>1004</td>\n",
       "      <td>1039</td>\n",
       "      <td>TPR</td>\n",
       "      <td>0</td>\n",
       "      <td>+</td>\n",
       "      <td>TAATYINVAMMEEGLGNVHVALRYLHKALKCNQRL</td>\n",
       "    </tr>\n",
       "    <tr>\n",
       "      <th>3</th>\n",
       "      <td>AT1G01970.1</td>\n",
       "      <td>163</td>\n",
       "      <td>198</td>\n",
       "      <td>P</td>\n",
       "      <td>0</td>\n",
       "      <td>+</td>\n",
       "      <td>NARDYTKIIHYYGKLNQVEDAERTLLSMKNRGFLI</td>\n",
       "    </tr>\n",
       "    <tr>\n",
       "      <th>4</th>\n",
       "      <td>AT1G01970.1</td>\n",
       "      <td>198</td>\n",
       "      <td>233</td>\n",
       "      <td>P</td>\n",
       "      <td>0</td>\n",
       "      <td>+</td>\n",
       "      <td>DQVTLTAMVQLYSKAGCHKLAEETFNEIKLLGEPL</td>\n",
       "    </tr>\n",
       "  </tbody>\n",
       "</table>\n",
       "</div>"
      ],
      "text/plain": [
       "           acc  start   end name  score strand  \\\n",
       "0  AT1G01320.1    920   955  TPR      0      +   \n",
       "1  AT1G01320.1    962   997  TPR      0      +   \n",
       "2  AT1G01320.1   1004  1039  TPR      0      +   \n",
       "3  AT1G01970.1    163   198    P      0      +   \n",
       "4  AT1G01970.1    198   233    P      0      +   \n",
       "\n",
       "                                 motif  \n",
       "0  TAGAYSLLAVVLYHTGDFNQATIYQQKALDINERE  \n",
       "1  TMKSYGDLAVFYYRLQHTELALKYVKRALYLLHLT  \n",
       "2  TAATYINVAMMEEGLGNVHVALRYLHKALKCNQRL  \n",
       "3  NARDYTKIIHYYGKLNQVEDAERTLLSMKNRGFLI  \n",
       "4  DQVTLTAMVQLYSKAGCHKLAEETFNEIKLLGEPL  "
      ]
     },
     "execution_count": 3,
     "metadata": {},
     "output_type": "execute_result"
    }
   ],
   "source": [
    "curated.head()"
   ]
  },
  {
   "cell_type": "code",
   "execution_count": 4,
   "metadata": {},
   "outputs": [],
   "source": [
    "Cheng = pd.read_csv(\"dataset/ath_167/ath_167_ppr_cheng.bed\", sep=\"\\t\", header=None)\n",
    "Cheng.columns = ['acc', 'start', 'end', 'name', 'score', 'strand', 'motif']"
   ]
  },
  {
   "cell_type": "code",
   "execution_count": 5,
   "metadata": {},
   "outputs": [
    {
     "data": {
      "text/html": [
       "<div>\n",
       "<style scoped>\n",
       "    .dataframe tbody tr th:only-of-type {\n",
       "        vertical-align: middle;\n",
       "    }\n",
       "\n",
       "    .dataframe tbody tr th {\n",
       "        vertical-align: top;\n",
       "    }\n",
       "\n",
       "    .dataframe thead th {\n",
       "        text-align: right;\n",
       "    }\n",
       "</style>\n",
       "<table border=\"1\" class=\"dataframe\">\n",
       "  <thead>\n",
       "    <tr style=\"text-align: right;\">\n",
       "      <th></th>\n",
       "      <th>acc</th>\n",
       "      <th>start</th>\n",
       "      <th>end</th>\n",
       "      <th>name</th>\n",
       "      <th>score</th>\n",
       "      <th>strand</th>\n",
       "      <th>motif</th>\n",
       "    </tr>\n",
       "  </thead>\n",
       "  <tbody>\n",
       "    <tr>\n",
       "      <th>0</th>\n",
       "      <td>AT1G06140.1</td>\n",
       "      <td>2</td>\n",
       "      <td>37</td>\n",
       "      <td>L1</td>\n",
       "      <td>12.5</td>\n",
       "      <td>+</td>\n",
       "      <td>PVNRARALLTILSQAKTLNHTQQVHAKVIIHGFED</td>\n",
       "    </tr>\n",
       "    <tr>\n",
       "      <th>1</th>\n",
       "      <td>AT1G06140.1</td>\n",
       "      <td>37</td>\n",
       "      <td>72</td>\n",
       "      <td>S1</td>\n",
       "      <td>9.2</td>\n",
       "      <td>+</td>\n",
       "      <td>EVVLGSSLTNAYIQSNRLDFATSSFNRIPCWKRNR</td>\n",
       "    </tr>\n",
       "    <tr>\n",
       "      <th>2</th>\n",
       "      <td>AT1G06140.1</td>\n",
       "      <td>70</td>\n",
       "      <td>105</td>\n",
       "      <td>P1</td>\n",
       "      <td>12.1</td>\n",
       "      <td>+</td>\n",
       "      <td>NRHSWNTILSGYSKSKTCCYSDVLLLYNRMRRHCD</td>\n",
       "    </tr>\n",
       "    <tr>\n",
       "      <th>3</th>\n",
       "      <td>AT1G06140.1</td>\n",
       "      <td>107</td>\n",
       "      <td>142</td>\n",
       "      <td>L1</td>\n",
       "      <td>30.7</td>\n",
       "      <td>+</td>\n",
       "      <td>DSFNLVFAIKACVGLGLLENGILIHGLAMKNGLDK</td>\n",
       "    </tr>\n",
       "    <tr>\n",
       "      <th>4</th>\n",
       "      <td>AT1G06140.1</td>\n",
       "      <td>142</td>\n",
       "      <td>177</td>\n",
       "      <td>S1</td>\n",
       "      <td>35.3</td>\n",
       "      <td>+</td>\n",
       "      <td>DDYVAPSLVEMYAQLGTMESAQKVFDEIPVRNSVL</td>\n",
       "    </tr>\n",
       "  </tbody>\n",
       "</table>\n",
       "</div>"
      ],
      "text/plain": [
       "           acc  start  end name  score strand  \\\n",
       "0  AT1G06140.1      2   37   L1   12.5      +   \n",
       "1  AT1G06140.1     37   72   S1    9.2      +   \n",
       "2  AT1G06140.1     70  105   P1   12.1      +   \n",
       "3  AT1G06140.1    107  142   L1   30.7      +   \n",
       "4  AT1G06140.1    142  177   S1   35.3      +   \n",
       "\n",
       "                                 motif  \n",
       "0  PVNRARALLTILSQAKTLNHTQQVHAKVIIHGFED  \n",
       "1  EVVLGSSLTNAYIQSNRLDFATSSFNRIPCWKRNR  \n",
       "2  NRHSWNTILSGYSKSKTCCYSDVLLLYNRMRRHCD  \n",
       "3  DSFNLVFAIKACVGLGLLENGILIHGLAMKNGLDK  \n",
       "4  DDYVAPSLVEMYAQLGTMESAQKVFDEIPVRNSVL  "
      ]
     },
     "execution_count": 5,
     "metadata": {},
     "output_type": "execute_result"
    }
   ],
   "source": [
    "Cheng.head()"
   ]
  },
  {
   "cell_type": "code",
   "execution_count": 6,
   "metadata": {},
   "outputs": [],
   "source": [
    "t1 = curated.merge(Cheng, \n",
    "                   left_on=['acc', 'start', 'end', \"strand\", \"motif\"], \n",
    "                   right_on=['acc', 'start', 'end', \"strand\", \"motif\"], \n",
    "                   how='outer')"
   ]
  },
  {
   "cell_type": "code",
   "execution_count": 7,
   "metadata": {},
   "outputs": [
    {
     "data": {
      "text/html": [
       "<div>\n",
       "<style scoped>\n",
       "    .dataframe tbody tr th:only-of-type {\n",
       "        vertical-align: middle;\n",
       "    }\n",
       "\n",
       "    .dataframe tbody tr th {\n",
       "        vertical-align: top;\n",
       "    }\n",
       "\n",
       "    .dataframe thead th {\n",
       "        text-align: right;\n",
       "    }\n",
       "</style>\n",
       "<table border=\"1\" class=\"dataframe\">\n",
       "  <thead>\n",
       "    <tr style=\"text-align: right;\">\n",
       "      <th></th>\n",
       "      <th>acc</th>\n",
       "      <th>start</th>\n",
       "      <th>end</th>\n",
       "      <th>name_x</th>\n",
       "      <th>score_x</th>\n",
       "      <th>strand</th>\n",
       "      <th>motif</th>\n",
       "      <th>name_y</th>\n",
       "      <th>score_y</th>\n",
       "    </tr>\n",
       "  </thead>\n",
       "  <tbody>\n",
       "    <tr>\n",
       "      <th>0</th>\n",
       "      <td>AT1G01320.1</td>\n",
       "      <td>920</td>\n",
       "      <td>955</td>\n",
       "      <td>TPR</td>\n",
       "      <td>0.0</td>\n",
       "      <td>+</td>\n",
       "      <td>TAGAYSLLAVVLYHTGDFNQATIYQQKALDINERE</td>\n",
       "      <td>NaN</td>\n",
       "      <td>NaN</td>\n",
       "    </tr>\n",
       "    <tr>\n",
       "      <th>1</th>\n",
       "      <td>AT1G01320.1</td>\n",
       "      <td>962</td>\n",
       "      <td>997</td>\n",
       "      <td>TPR</td>\n",
       "      <td>0.0</td>\n",
       "      <td>+</td>\n",
       "      <td>TMKSYGDLAVFYYRLQHTELALKYVKRALYLLHLT</td>\n",
       "      <td>NaN</td>\n",
       "      <td>NaN</td>\n",
       "    </tr>\n",
       "    <tr>\n",
       "      <th>2</th>\n",
       "      <td>AT1G01320.1</td>\n",
       "      <td>1004</td>\n",
       "      <td>1039</td>\n",
       "      <td>TPR</td>\n",
       "      <td>0.0</td>\n",
       "      <td>+</td>\n",
       "      <td>TAATYINVAMMEEGLGNVHVALRYLHKALKCNQRL</td>\n",
       "      <td>NaN</td>\n",
       "      <td>NaN</td>\n",
       "    </tr>\n",
       "    <tr>\n",
       "      <th>3</th>\n",
       "      <td>AT1G01970.1</td>\n",
       "      <td>163</td>\n",
       "      <td>198</td>\n",
       "      <td>P</td>\n",
       "      <td>0.0</td>\n",
       "      <td>+</td>\n",
       "      <td>NARDYTKIIHYYGKLNQVEDAERTLLSMKNRGFLI</td>\n",
       "      <td>P</td>\n",
       "      <td>21.8</td>\n",
       "    </tr>\n",
       "    <tr>\n",
       "      <th>4</th>\n",
       "      <td>AT1G01970.1</td>\n",
       "      <td>198</td>\n",
       "      <td>233</td>\n",
       "      <td>P</td>\n",
       "      <td>0.0</td>\n",
       "      <td>+</td>\n",
       "      <td>DQVTLTAMVQLYSKAGCHKLAEETFNEIKLLGEPL</td>\n",
       "      <td>P</td>\n",
       "      <td>14.6</td>\n",
       "    </tr>\n",
       "  </tbody>\n",
       "</table>\n",
       "</div>"
      ],
      "text/plain": [
       "           acc  start   end name_x  score_x strand  \\\n",
       "0  AT1G01320.1    920   955    TPR      0.0      +   \n",
       "1  AT1G01320.1    962   997    TPR      0.0      +   \n",
       "2  AT1G01320.1   1004  1039    TPR      0.0      +   \n",
       "3  AT1G01970.1    163   198      P      0.0      +   \n",
       "4  AT1G01970.1    198   233      P      0.0      +   \n",
       "\n",
       "                                 motif name_y  score_y  \n",
       "0  TAGAYSLLAVVLYHTGDFNQATIYQQKALDINERE    NaN      NaN  \n",
       "1  TMKSYGDLAVFYYRLQHTELALKYVKRALYLLHLT    NaN      NaN  \n",
       "2  TAATYINVAMMEEGLGNVHVALRYLHKALKCNQRL    NaN      NaN  \n",
       "3  NARDYTKIIHYYGKLNQVEDAERTLLSMKNRGFLI      P     21.8  \n",
       "4  DQVTLTAMVQLYSKAGCHKLAEETFNEIKLLGEPL      P     14.6  "
      ]
     },
     "execution_count": 7,
     "metadata": {},
     "output_type": "execute_result"
    }
   ],
   "source": [
    "t1.head()"
   ]
  },
  {
   "cell_type": "code",
   "execution_count": 8,
   "metadata": {},
   "outputs": [],
   "source": [
    "Pred = pd.read_csv(\"dataset/ath_167/Pred.tsv\", sep=\"\\t\", header=None)\n",
    "Pred.columns = ['acc', 'start', 'end', 'name', \"score\", 'strand', 'motif']\n",
    "t2 = t1.merge(Pred,\n",
    "              left_on=['acc', 'start', 'end', \"strand\", \"motif\"], \n",
    "              right_on=['acc', 'start', 'end', \"strand\", \"motif\"],\n",
    "              how='outer')\n",
    "t2.to_csv(\"dataset/ath_167/Merged.tsv\", sep=\"\\t\", index=False)"
   ]
  },
  {
   "cell_type": "code",
   "execution_count": null,
   "metadata": {},
   "outputs": [],
   "source": [
    "### Take only ATdGddddd.1 and change empty name to \"B\" mannully."
   ]
  },
  {
   "cell_type": "code",
   "execution_count": 9,
   "metadata": {},
   "outputs": [],
   "source": [
    "Merged = pd.read_csv(\"dataset/ath_167/Merged1.tsv\", sep=\"\\t\", header=0)"
   ]
  },
  {
   "cell_type": "code",
   "execution_count": 10,
   "metadata": {},
   "outputs": [
    {
     "data": {
      "text/html": [
       "<div>\n",
       "<style scoped>\n",
       "    .dataframe tbody tr th:only-of-type {\n",
       "        vertical-align: middle;\n",
       "    }\n",
       "\n",
       "    .dataframe tbody tr th {\n",
       "        vertical-align: top;\n",
       "    }\n",
       "\n",
       "    .dataframe thead th {\n",
       "        text-align: right;\n",
       "    }\n",
       "</style>\n",
       "<table border=\"1\" class=\"dataframe\">\n",
       "  <thead>\n",
       "    <tr style=\"text-align: right;\">\n",
       "      <th></th>\n",
       "      <th>acc</th>\n",
       "      <th>start</th>\n",
       "      <th>end</th>\n",
       "      <th>name_curated</th>\n",
       "      <th>score</th>\n",
       "      <th>strand</th>\n",
       "      <th>motif</th>\n",
       "      <th>name_Cheng</th>\n",
       "      <th>name_Pred</th>\n",
       "    </tr>\n",
       "  </thead>\n",
       "  <tbody>\n",
       "    <tr>\n",
       "      <th>0</th>\n",
       "      <td>AT1G01320.1</td>\n",
       "      <td>920</td>\n",
       "      <td>955</td>\n",
       "      <td>TPR</td>\n",
       "      <td>1.000000</td>\n",
       "      <td>+</td>\n",
       "      <td>TAGAYSLLAVVLYHTGDFNQATIYQQKALDINERE</td>\n",
       "      <td>B</td>\n",
       "      <td>TPR</td>\n",
       "    </tr>\n",
       "    <tr>\n",
       "      <th>1</th>\n",
       "      <td>AT1G01320.1</td>\n",
       "      <td>962</td>\n",
       "      <td>997</td>\n",
       "      <td>TPR</td>\n",
       "      <td>1.000000</td>\n",
       "      <td>+</td>\n",
       "      <td>TMKSYGDLAVFYYRLQHTELALKYVKRALYLLHLT</td>\n",
       "      <td>B</td>\n",
       "      <td>TPR</td>\n",
       "    </tr>\n",
       "    <tr>\n",
       "      <th>2</th>\n",
       "      <td>AT1G01320.1</td>\n",
       "      <td>1004</td>\n",
       "      <td>1039</td>\n",
       "      <td>TPR</td>\n",
       "      <td>1.000000</td>\n",
       "      <td>+</td>\n",
       "      <td>TAATYINVAMMEEGLGNVHVALRYLHKALKCNQRL</td>\n",
       "      <td>B</td>\n",
       "      <td>TPR</td>\n",
       "    </tr>\n",
       "    <tr>\n",
       "      <th>3</th>\n",
       "      <td>AT1G01740.1</td>\n",
       "      <td>373</td>\n",
       "      <td>408</td>\n",
       "      <td>B</td>\n",
       "      <td>0.996137</td>\n",
       "      <td>+</td>\n",
       "      <td>EAINSKKKGDIAFRRKDFSEAIEFYTQFLDLGMIS</td>\n",
       "      <td>B</td>\n",
       "      <td>TPR</td>\n",
       "    </tr>\n",
       "    <tr>\n",
       "      <th>4</th>\n",
       "      <td>AT1G01970.1</td>\n",
       "      <td>163</td>\n",
       "      <td>198</td>\n",
       "      <td>P</td>\n",
       "      <td>1.000000</td>\n",
       "      <td>+</td>\n",
       "      <td>NARDYTKIIHYYGKLNQVEDAERTLLSMKNRGFLI</td>\n",
       "      <td>P</td>\n",
       "      <td>P</td>\n",
       "    </tr>\n",
       "  </tbody>\n",
       "</table>\n",
       "</div>"
      ],
      "text/plain": [
       "           acc  start   end name_curated     score strand  \\\n",
       "0  AT1G01320.1    920   955          TPR  1.000000      +   \n",
       "1  AT1G01320.1    962   997          TPR  1.000000      +   \n",
       "2  AT1G01320.1   1004  1039          TPR  1.000000      +   \n",
       "3  AT1G01740.1    373   408            B  0.996137      +   \n",
       "4  AT1G01970.1    163   198            P  1.000000      +   \n",
       "\n",
       "                                 motif name_Cheng name_Pred  \n",
       "0  TAGAYSLLAVVLYHTGDFNQATIYQQKALDINERE          B       TPR  \n",
       "1  TMKSYGDLAVFYYRLQHTELALKYVKRALYLLHLT          B       TPR  \n",
       "2  TAATYINVAMMEEGLGNVHVALRYLHKALKCNQRL          B       TPR  \n",
       "3  EAINSKKKGDIAFRRKDFSEAIEFYTQFLDLGMIS          B       TPR  \n",
       "4  NARDYTKIIHYYGKLNQVEDAERTLLSMKNRGFLI          P         P  "
      ]
     },
     "execution_count": 10,
     "metadata": {},
     "output_type": "execute_result"
    }
   ],
   "source": [
    "Merged.head()"
   ]
  },
  {
   "cell_type": "code",
   "execution_count": 11,
   "metadata": {},
   "outputs": [
    {
     "data": {
      "text/plain": [
       "<matplotlib.axes._subplots.AxesSubplot at 0x115184dd8>"
      ]
     },
     "execution_count": 11,
     "metadata": {},
     "output_type": "execute_result"
    },
    {
     "data": {
      "image/png": "[encoded data removed]",
      "text/plain": [
       "<matplotlib.figure.Figure at 0x1143a7c18>"
      ]
     },
     "metadata": {},
     "output_type": "display_data"
    }
   ],
   "source": [
    "cmatrix = pd.crosstab(Merged.name_curated, Merged.name_Cheng, rownames=[\"curated\"], colnames=[\"Cheng\"])\n",
    "sns.heatmap(cmatrix, annot=True, fmt='', cmap=plt.cm.Blues)"
   ]
  },
  {
   "cell_type": "code",
   "execution_count": 12,
   "metadata": {},
   "outputs": [
    {
     "data": {
      "text/plain": [
       "<matplotlib.axes._subplots.AxesSubplot at 0x111592ef0>"
      ]
     },
     "execution_count": 12,
     "metadata": {},
     "output_type": "execute_result"
    },
    {
     "data": {
      "image/png": "[encoded data removed]",
      "text/plain": [
       "<matplotlib.figure.Figure at 0x1071695c0>"
      ]
     },
     "metadata": {},
     "output_type": "display_data"
    }
   ],
   "source": [
    "cmatrix = pd.crosstab(Merged.name_curated, Merged.name_Pred, rownames=[\"curated\"], colnames=[\"Wang\"])\n",
    "sns.heatmap(cmatrix, annot=True, fmt='', cmap=plt.cm.Blues)"
   ]
  },
  {
   "cell_type": "code",
   "execution_count": null,
   "metadata": {},
   "outputs": [],
   "source": []
  },
  {
   "cell_type": "code",
   "execution_count": null,
   "metadata": {},
   "outputs": [],
   "source": []
  },
  {
   "cell_type": "code",
   "execution_count": null,
   "metadata": {},
   "outputs": [],
   "source": []
  },
  {
   "cell_type": "code",
   "execution_count": null,
   "metadata": {},
   "outputs": [],
   "source": []
  },
  {
   "cell_type": "code",
   "execution_count": null,
   "metadata": {},
   "outputs": [],
   "source": []
  },
  {
   "cell_type": "code",
   "execution_count": null,
   "metadata": {},
   "outputs": [],
   "source": []
  },
  {
   "cell_type": "code",
   "execution_count": null,
   "metadata": {},
   "outputs": [],
   "source": []
  },
  {
   "cell_type": "code",
   "execution_count": null,
   "metadata": {},
   "outputs": [],
   "source": []
  },
  {
   "cell_type": "code",
   "execution_count": null,
   "metadata": {},
   "outputs": [],
   "source": []
  },
  {
   "cell_type": "code",
   "execution_count": null,
   "metadata": {},
   "outputs": [],
   "source": [
    "with open(\"datasets/old/ath_167_fa/Athaliana_167_TAIR10_PPR.txt\") as f:\n",
    "    ath_PPRs = [line.rstrip() for line in f]\n",
    "\n",
    "with open(\"datasets/Ath_167_33k_bg.bed\", \"w\") as bg1:\n",
    "    with open(\"datasets/Ath_167_33k_bg.tsv\") as bg2:\n",
    "        for line in bg2:\n",
    "            acc = line.rstrip().split()[0]\n",
    "            if acc not in ath_PPRs:\n",
    "                bg1.write(line)"
   ]
  },
  {
   "cell_type": "code",
   "execution_count": null,
   "metadata": {},
   "outputs": [],
   "source": [
    "with open(\"test_valid.tsv\", \"w\") as tv:\n",
    "    with open(\"datasets/Ath_167_33k_train.bed\") as train:\n",
    "        next(train)\n",
    "        for line in train:\n",
    "            line = line.rstrip().split(\"\\t\")\n",
    "            name, motif = line[3], line[6]\n",
    "            tv.write(\"{}\\t{}\\t{}\\n\".format(name, motif[:6], motif[6:]))"
   ]
  },
  {
   "cell_type": "code",
   "execution_count": null,
   "metadata": {},
   "outputs": [],
   "source": [
    "with open(\"datasets/uniprot.bed\", \"w\") as bed:\n",
    "    with open(\"datasets_new/uniprot_ath_m.txt\") as gff:\n",
    "        for line in gff:\n",
    "            line = line.rstrip()\n",
    "            if line.startswith(\"##\"):\n",
    "                continue\n",
    "            else:\n",
    "                entry, source, typ, start, end, m1, m2, m3, note = line.split(\"\\t\")\n",
    "            if typ == 'Chain':\n",
    "                if re.search(Atg, note):\n",
    "                    match = re.search(Atg, note)\n",
    "                    acc = match.group()\n",
    "                else:\n",
    "                    acc = entry\n",
    "            elif typ in ['Repeat', 'Region']:\n",
    "                bed.write(\"{}\\t{}\\t{}\\t{}\\t{}\\t{}\\n\".format(acc, int(start)-1, int(start)-1+35, \"0\", \"+\", note))\n",
    "            else:\n",
    "                continue"
   ]
  },
  {
   "cell_type": "code",
   "execution_count": 6,
   "metadata": {},
   "outputs": [
    {
     "name": "stderr",
     "output_type": "stream",
     "text": [
      "Using TensorFlow backend.\n"
     ]
    }
   ],
   "source": [
    "import numpy as np\n",
    "import pandas as pd\n",
    "from keras.utils import to_categorical"
   ]
  },
  {
   "cell_type": "code",
   "execution_count": 7,
   "metadata": {},
   "outputs": [],
   "source": [
    "def encode_kmers(kmers, alphabet=\"ACDEFGHIKLMNPQRSTVWY\", k=35):\n",
    "    encoded_kmers = []\n",
    "    for kmer in kmers:\n",
    "        kmer = kmer[:k]    # Make sure to take expected length\n",
    "        try:\n",
    "            idx = [alphabet.index(aa) for aa in kmer]\n",
    "            encoded_kmer = to_categorical(idx, len(alphabet))\n",
    "            encoded_kmer = np.array(encoded_kmer.flatten(), dtype=np.int)\n",
    "            encoded_kmers.append(encoded_kmer)\n",
    "        except ValueError:  # in case of non_amino_acid letters\n",
    "            pass\n",
    "    return np.array(encoded_kmers)"
   ]
  },
  {
   "cell_type": "code",
   "execution_count": 48,
   "metadata": {},
   "outputs": [],
   "source": [
    "with open(\"datasets/ps51375/ps51375_bs1_train.tsv\", \"w\") as f:\n",
    "    with open(\"datasets/ps51375/ps51375_bs1.tsv\") as bs1:\n",
    "        for line in bs1:\n",
    "            acc, start, end, name, score, strand, motif = line.rstrip().split(\"\\t\")\n",
    "            if \"B\" not in motif and \"J\" not in motif and \"X\" not in motif and \"Z\" not in motif :\n",
    "                f.write(line)"
   ]
  },
  {
   "cell_type": "code",
   "execution_count": 43,
   "metadata": {},
   "outputs": [],
   "source": [
    "with open(\"/Users/gongwei/Desktop/ath_PS50005_61_entry.fasta\", \"w\") as f:\n",
    "    with open(\"/Users/gongwei/Desktop/ath_PS50005_61.fasta\") as ori:\n",
    "        for line in ori:\n",
    "            line = line.rstrip()\n",
    "            if line.startswith(\">\"):\n",
    "                entry = line.split(\"|\")[1]\n",
    "                f.write(\">{}\\n\".format(entry))\n",
    "            else:\n",
    "                f.write(\"{}\\n\".format(line))"
   ]
  },
  {
   "cell_type": "code",
   "execution_count": 6,
   "metadata": {},
   "outputs": [],
   "source": [
    "import re\n",
    "ATG = r\"(At.?g\\d{5})\"\n",
    "with open(\"dataset/TPR2.txt\", \"a\") as pid:\n",
    "    with open(\"/Users/gongwei/Downloads/uniprot-ps50293-ath.tab\") as tab:\n",
    "        for line in tab:\n",
    "            line = line.rstrip()\n",
    "            if re.search(ATG, line):\n",
    "                match = re.search(ATG, line)\n",
    "                acc = match.group()\n",
    "                pid.write(\"{}\\n\".format(acc))"
   ]
  },
  {
   "cell_type": "code",
   "execution_count": null,
   "metadata": {},
   "outputs": [],
   "source": []
  }
 ],
 "metadata": {
  "kernelspec": {
   "display_name": "Python 3",
   "language": "python",
   "name": "python3"
  },
  "language_info": {
   "codemirror_mode": {
    "name": "ipython",
    "version": 3
   },
   "file_extension": ".py",
   "mimetype": "text/x-python",
   "name": "python",
   "nbconvert_exporter": "python",
   "pygments_lexer": "ipython3",
   "version": "3.6.4"
  }
 },
 "nbformat": 4,
 "nbformat_minor": 2
}
