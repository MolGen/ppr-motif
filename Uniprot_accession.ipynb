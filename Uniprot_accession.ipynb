{
 "cells": [
  {
   "cell_type": "markdown",
   "metadata": {},
   "source": [
    "# Extract Uniprot PPR and TPR protein accession"
   ]
  },
  {
   "cell_type": "code",
   "execution_count": 1,
   "metadata": {},
   "outputs": [],
   "source": [
    "import re"
   ]
  },
  {
   "cell_type": "code",
   "execution_count": 2,
   "metadata": {},
   "outputs": [],
   "source": [
    "Atg = r\"(At\\dg\\d{5})\""
   ]
  },
  {
   "cell_type": "code",
   "execution_count": 3,
   "metadata": {},
   "outputs": [],
   "source": [
    "with open(\"dataset/uniprot/uniprot-ps51375-ath.txt\", \"w\") as pid:\n",
    "    with open(\"dataset/uniprot/uniprot-ps51375-ath.tab\") as tab:\n",
    "        for line in tab:\n",
    "            line = line.rstrip()\n",
    "            if re.search(Atg, line):\n",
    "                match = re.search(Atg, line)\n",
    "                acc = match.group()\n",
    "                if \"AXX17\" in line:\n",
    "                    pid.write(\"AXX17_{}\\n\".format(acc.upper()))\n",
    "                else:\n",
    "                    pid.write(\"{}\\n\".format(acc.upper()))"
   ]
  },
  {
   "cell_type": "code",
   "execution_count": 4,
   "metadata": {},
   "outputs": [],
   "source": [
    "with open(\"dataset/uniprot/uniprot-ps50005-ath.txt\", \"w\") as pid:\n",
    "    with open(\"dataset/uniprot/uniprot-ps50005-ath.tab\") as tab:\n",
    "        for line in tab:\n",
    "            line = line.rstrip()\n",
    "            if re.search(Atg, line):\n",
    "                match = re.search(Atg, line)\n",
    "                acc = match.group()\n",
    "                if \"AXX17\" in line:\n",
    "                    pid.write(\"AXX17_{}\\n\".format(acc.upper()))\n",
    "                else:\n",
    "                    pid.write(\"{}\\n\".format(acc.upper()))"
   ]
  },
  {
   "cell_type": "code",
   "execution_count": 5,
   "metadata": {},
   "outputs": [],
   "source": [
    "with open(\"dataset/uniprot/uniprot-ps50293-ath.txt\", \"w\") as pid:\n",
    "    with open(\"dataset/uniprot/uniprot-ps50293-ath.tab\") as tab:\n",
    "        for line in tab:\n",
    "            line = line.rstrip()\n",
    "            if re.search(Atg, line):\n",
    "                match = re.search(Atg, line)\n",
    "                acc = match.group()\n",
    "                if \"AXX17\" in line:\n",
    "                    pid.write(\"AXX17_{}\\n\".format(acc.upper()))\n",
    "                else:\n",
    "                    pid.write(\"{}\\n\".format(acc.upper()))"
   ]
  },
  {
   "cell_type": "code",
   "execution_count": null,
   "metadata": {},
   "outputs": [],
   "source": []
  },
  {
   "cell_type": "code",
   "execution_count": 16,
   "metadata": {},
   "outputs": [],
   "source": [
    "fasta=\"dataset/ath_167/Osativa_323_v7.0.protein.fa\"\n",
    "for record in SeqIO.parse(fasta, \"fasta\"):\n",
    "    sequence = str(record.seq)[:-1] # remove \"*\" at the end of every sequence\n",
    "    accession = record.id\n",
    "    \n",
    "    if len(sequence) < 35 or not containsOnly(sequence):\n",
    "        continue\n",
    "    try:\n",
    "        df = PPR_motifs(accession, sequence, model_bs1, labels, bg=\"B\", k=35)\n",
    "    except ValueError:\n",
    "        continue\n",
    "    df.to_csv(\"dataset/ath_167/Osa_323_pred.tsv\", mode='a', sep=\"\\t\", header=False, index=False)"
   ]
  },
  {
   "cell_type": "code",
   "execution_count": 17,
   "metadata": {},
   "outputs": [],
   "source": [
    "fasta=\"dataset/ath_167/Atrichopoda_291_v1.0.protein.fa\"\n",
    "for record in SeqIO.parse(fasta, \"fasta\"):\n",
    "    sequence = str(record.seq)[:-1] # remove \"*\" at the end of every sequence\n",
    "    accession = record.id\n",
    "    \n",
    "    if len(sequence) < 35 or not containsOnly(sequence):\n",
    "        continue\n",
    "    try:\n",
    "        df = PPR_motifs(accession, sequence, model_bs1, labels, bg=\"B\", k=35)\n",
    "    except ValueError:\n",
    "        continue\n",
    "    df.to_csv(\"dataset/ath_167/Atr_291_pred.tsv\", mode='a', sep=\"\\t\", header=False, index=False)"
   ]
  },
  {
   "cell_type": "code",
   "execution_count": 18,
   "metadata": {},
   "outputs": [],
   "source": [
    "fasta=\"dataset/ath_167/Ppatens_318_v3.3.protein.fa\"\n",
    "for record in SeqIO.parse(fasta, \"fasta\"):\n",
    "    sequence = str(record.seq)[:-1] # remove \"*\" at the end of every sequence\n",
    "    accession = record.id\n",
    "    \n",
    "    if len(sequence) < 35 or not containsOnly(sequence):\n",
    "        continue\n",
    "    try:\n",
    "        df = PPR_motifs(accession, sequence, model_bs1, labels, bg=\"B\", k=35)\n",
    "    except ValueError:\n",
    "        continue\n",
    "    df.to_csv(\"dataset/ath_167/Ppa_38_pred.tsv\", mode='a', sep=\"\\t\", header=False, index=False)"
   ]
  },
  {
   "cell_type": "code",
   "execution_count": null,
   "metadata": {},
   "outputs": [],
   "source": []
  }
 ],
 "metadata": {
  "kernelspec": {
   "display_name": "Python 3",
   "language": "python",
   "name": "python3"
  },
  "language_info": {
   "codemirror_mode": {
    "name": "ipython",
    "version": 3
   },
   "file_extension": ".py",
   "mimetype": "text/x-python",
   "name": "python",
   "nbconvert_exporter": "python",
   "pygments_lexer": "ipython3",
   "version": "3.6.4"
  }
 },
 "nbformat": 4,
 "nbformat_minor": 2
}
